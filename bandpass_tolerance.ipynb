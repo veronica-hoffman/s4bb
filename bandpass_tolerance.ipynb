{
 "cells": [
  {
   "cell_type": "code",
   "execution_count": 1,
   "id": "c06b62a9-c409-4c0e-a608-2e274a03fff0",
   "metadata": {},
   "outputs": [],
   "source": [
    "import pandas as pd\n",
    "import numpy as np\n",
    "import matplotlib.pyplot as plt"
   ]
  },
  {
   "cell_type": "code",
   "execution_count": 5,
   "id": "8f6c7f02-60fc-4a5d-a3eb-946845c57bd7",
   "metadata": {},
   "outputs": [
    {
     "data": {
      "text/html": [
       "<div>\n",
       "<style scoped>\n",
       "    .dataframe tbody tr th:only-of-type {\n",
       "        vertical-align: middle;\n",
       "    }\n",
       "\n",
       "    .dataframe tbody tr th {\n",
       "        vertical-align: top;\n",
       "    }\n",
       "\n",
       "    .dataframe thead th {\n",
       "        text-align: right;\n",
       "    }\n",
       "</style>\n",
       "<table border=\"1\" class=\"dataframe\">\n",
       "  <thead>\n",
       "    <tr style=\"text-align: right;\">\n",
       "      <th></th>\n",
       "      <th>LF-1</th>\n",
       "      <th>LF-2</th>\n",
       "      <th>MF-1</th>\n",
       "      <th>MF-2</th>\n",
       "      <th>HF-1</th>\n",
       "      <th>HF-2</th>\n",
       "    </tr>\n",
       "  </thead>\n",
       "  <tbody>\n",
       "    <tr>\n",
       "      <th>0</th>\n",
       "      <td>0.000000</td>\n",
       "      <td>1.000000</td>\n",
       "      <td>2.00000</td>\n",
       "      <td>3.000000</td>\n",
       "      <td>4.000000</td>\n",
       "      <td>5.000000</td>\n",
       "    </tr>\n",
       "    <tr>\n",
       "      <th>1</th>\n",
       "      <td>-3.750000</td>\n",
       "      <td>-1.093750</td>\n",
       "      <td>-1.40625</td>\n",
       "      <td>-1.328125</td>\n",
       "      <td>-4.921875</td>\n",
       "      <td>-0.468750</td>\n",
       "    </tr>\n",
       "    <tr>\n",
       "      <th>2</th>\n",
       "      <td>1.484375</td>\n",
       "      <td>2.890625</td>\n",
       "      <td>2.03125</td>\n",
       "      <td>0.703125</td>\n",
       "      <td>1.640625</td>\n",
       "      <td>1.171875</td>\n",
       "    </tr>\n",
       "  </tbody>\n",
       "</table>\n",
       "</div>"
      ],
      "text/plain": [
       "       LF-1      LF-2     MF-1      MF-2      HF-1      HF-2\n",
       "0  0.000000  1.000000  2.00000  3.000000  4.000000  5.000000\n",
       "1 -3.750000 -1.093750 -1.40625 -1.328125 -4.921875 -0.468750\n",
       "2  1.484375  2.890625  2.03125  0.703125  1.640625  1.171875"
      ]
     },
     "execution_count": 5,
     "metadata": {},
     "output_type": "execute_result"
    }
   ],
   "source": [
    "tol_LF1_f1 = pd.Series(np.load('bandpass_tolerance/ph2_tolerance_f1_y20_n3_diag0_full_withpbs_LF-1_rtol1e-04_nrlz10.npy'), name = 'LF-1')\n",
    "tol_LF2_f1 = pd.Series(np.load('bandpass_tolerance/ph2_tolerance_f1_y20_n3_diag0_full_withpbs_LF-2_rtol1e-04_nrlz10.npy'), name = 'LF-2')\n",
    "tol_MF1_f1 = pd.Series(np.load('bandpass_tolerance/ph2_tolerance_f1_y20_n3_diag0_full_withpbs_MF-1_rtol1e-04_nrlz10.npy'), name = 'MF-1')\n",
    "tol_MF2_f1 = pd.Series(np.load('bandpass_tolerance/ph2_tolerance_f1_y20_n3_diag0_full_withpbs_MF-2_rtol1e-04_nrlz10.npy'), name = 'MF-2')\n",
    "tol_HF1_f1 = pd.Series(np.load('bandpass_tolerance/ph2_tolerance_f1_y20_n3_diag0_full_withpbs_HF-1_rtol1e-04_nrlz10.npy'), name = 'HF-1')\n",
    "tol_HF2_f1 = pd.Series(np.load('bandpass_tolerance/ph2_tolerance_f1_y20_n3_diag0_full_withpbs_HF-2_rtol1e-04_nrlz10.npy'), name = 'HF-2')\n",
    "df_f1 = pd.concat([tol_LF1, tol_LF2, tol_MF1, tol_MF2, tol_HF1, tol_HF2], axis = 1)\n",
    "df_f1"
   ]
  },
  {
   "cell_type": "code",
   "execution_count": 6,
   "id": "dc13c0e8-996c-4e62-86ac-a712ee7a20ce",
   "metadata": {},
   "outputs": [
    {
     "data": {
      "text/html": [
       "<div>\n",
       "<style scoped>\n",
       "    .dataframe tbody tr th:only-of-type {\n",
       "        vertical-align: middle;\n",
       "    }\n",
       "\n",
       "    .dataframe tbody tr th {\n",
       "        vertical-align: top;\n",
       "    }\n",
       "\n",
       "    .dataframe thead th {\n",
       "        text-align: right;\n",
       "    }\n",
       "</style>\n",
       "<table border=\"1\" class=\"dataframe\">\n",
       "  <thead>\n",
       "    <tr style=\"text-align: right;\">\n",
       "      <th></th>\n",
       "      <th>LF-1</th>\n",
       "      <th>LF-2</th>\n",
       "      <th>MF-1</th>\n",
       "      <th>MF-2</th>\n",
       "      <th>HF-1</th>\n",
       "      <th>HF-2</th>\n",
       "    </tr>\n",
       "  </thead>\n",
       "  <tbody>\n",
       "    <tr>\n",
       "      <th>0</th>\n",
       "      <td>0.000000</td>\n",
       "      <td>1.000</td>\n",
       "      <td>2.000000</td>\n",
       "      <td>3.000000</td>\n",
       "      <td>4.000000</td>\n",
       "      <td>5.000000</td>\n",
       "    </tr>\n",
       "    <tr>\n",
       "      <th>1</th>\n",
       "      <td>-4.296875</td>\n",
       "      <td>-0.625</td>\n",
       "      <td>-0.156250</td>\n",
       "      <td>-0.078125</td>\n",
       "      <td>-0.546875</td>\n",
       "      <td>0.000000</td>\n",
       "    </tr>\n",
       "    <tr>\n",
       "      <th>2</th>\n",
       "      <td>0.781250</td>\n",
       "      <td>3.125</td>\n",
       "      <td>0.234375</td>\n",
       "      <td>0.078125</td>\n",
       "      <td>0.390625</td>\n",
       "      <td>0.078125</td>\n",
       "    </tr>\n",
       "  </tbody>\n",
       "</table>\n",
       "</div>"
      ],
      "text/plain": [
       "       LF-1   LF-2      MF-1      MF-2      HF-1      HF-2\n",
       "0  0.000000  1.000  2.000000  3.000000  4.000000  5.000000\n",
       "1 -4.296875 -0.625 -0.156250 -0.078125 -0.546875  0.000000\n",
       "2  0.781250  3.125  0.234375  0.078125  0.390625  0.078125"
      ]
     },
     "execution_count": 6,
     "metadata": {},
     "output_type": "execute_result"
    }
   ],
   "source": [
    "tol_LF1_f2 = pd.Series(np.load('bandpass_tolerance/ph2_tolerance_f2_y20_n3_diag0_full_withpbs_LF-1_rtol1e-04_nrlz10.npy'), name = 'LF-1')\n",
    "tol_LF2_f2 = pd.Series(np.load('bandpass_tolerance/ph2_tolerance_f2_y20_n3_diag0_full_withpbs_LF-2_rtol1e-04_nrlz10.npy'), name = 'LF-2')\n",
    "tol_MF1_f2 = pd.Series(np.load('bandpass_tolerance/ph2_tolerance_f2_y20_n3_diag0_full_withpbs_MF-1_rtol1e-04_nrlz10.npy'), name = 'MF-1')\n",
    "tol_MF2_f2 = pd.Series(np.load('bandpass_tolerance/ph2_tolerance_f2_y20_n3_diag0_full_withpbs_MF-2_rtol1e-04_nrlz10.npy'), name = 'MF-2')\n",
    "tol_HF1_f2 = pd.Series(np.load('bandpass_tolerance/ph2_tolerance_f2_y20_n3_diag0_full_withpbs_HF-1_rtol1e-04_nrlz10.npy'), name = 'HF-1')\n",
    "tol_HF2_f2 = pd.Series(np.load('bandpass_tolerance/ph2_tolerance_f2_y20_n3_diag0_full_withpbs_HF-2_rtol1e-04_nrlz10.npy'), name = 'HF-2')\n",
    "df_f2 = pd.concat([tol_LF1_f2, tol_LF2_f2, tol_MF1_f2, tol_MF2_f2, tol_HF1_f2, tol_HF2_f2], axis = 1)\n",
    "df_f2"
   ]
  },
  {
   "cell_type": "code",
   "execution_count": 11,
   "id": "e48aa87e-007e-4efc-b335-76ad7d58b8da",
   "metadata": {},
   "outputs": [
    {
     "data": {
      "image/png": "[encoded data removed]",
      "text/plain": [
       "<Figure size 640x480 with 1 Axes>"
      ]
     },
     "metadata": {},
     "output_type": "display_data"
    }
   ],
   "source": [
    "bands = ['LF-1', 'LF-2', 'MF-1', 'MF-2', 'HF-1', 'HF-2']\n",
    "\n",
    "f1_neg = df_f1.iloc[1]\n",
    "f1_pos = df_f1.iloc[2]\n",
    "f2_neg = df_f2.iloc[1]\n",
    "f2_pos = df_f2.iloc[2]\n",
    "\n",
    "plt.scatter(range(len(bands)), abs(f1_neg), color='blue', alpha=0.8, s=100, label = 'field 1 negative bias limit', marker='o')\n",
    "plt.scatter(range(len(bands)), f1_pos, color='red', alpha=0.8, s=100, label = 'field 1 positive bias limit', marker='o')\n",
    "plt.scatter(range(len(bands)), abs(f2_neg), color='cornflowerblue', alpha=0.8, s=100, label = 'field 2 negative bias limit', marker='o')\n",
    "plt.scatter(range(len(bands)), f2_pos, color='lightcoral', alpha=0.8, s=100, label = 'field 2 positive bias limit', marker='o')\n",
    "\n",
    "plt.xlabel('Frequency Bands')\n",
    "plt.ylabel('Bandpass Tolerance (%)')\n",
    "plt.title('Bandpass Calibration Tolerances for r precision = 1e-4')\n",
    "plt.xticks([0, 1, 2, 3, 4, 5],['LF-1', 'LF-2', 'MF-1', 'MF-2', 'HF-1', 'HF-2'])\n",
    "plt.grid(alpha=0.3)\n",
    "plt.legend()\n",
    "plt.show()"
   ]
  },
  {
   "cell_type": "code",
   "execution_count": 13,
   "id": "266ea9e7-4031-4825-ac19-2b2f7af594be",
   "metadata": {},
   "outputs": [
    {
     "data": {
      "text/html": [
       "<div>\n",
       "<style scoped>\n",
       "    .dataframe tbody tr th:only-of-type {\n",
       "        vertical-align: middle;\n",
       "    }\n",
       "\n",
       "    .dataframe tbody tr th {\n",
       "        vertical-align: top;\n",
       "    }\n",
       "\n",
       "    .dataframe thead th {\n",
       "        text-align: right;\n",
       "    }\n",
       "</style>\n",
       "<table border=\"1\" class=\"dataframe\">\n",
       "  <thead>\n",
       "    <tr style=\"text-align: right;\">\n",
       "      <th></th>\n",
       "      <th>0</th>\n",
       "    </tr>\n",
       "  </thead>\n",
       "  <tbody>\n",
       "    <tr>\n",
       "      <th>0</th>\n",
       "      <td>-4.755859</td>\n",
       "    </tr>\n",
       "    <tr>\n",
       "      <th>1</th>\n",
       "      <td>3.359375</td>\n",
       "    </tr>\n",
       "  </tbody>\n",
       "</table>\n",
       "</div>"
      ],
      "text/plain": [
       "          0\n",
       "0 -4.755859\n",
       "1  3.359375"
      ]
     },
     "execution_count": 13,
     "metadata": {},
     "output_type": "execute_result"
    }
   ],
   "source": [
    "all_ghz = pd.DataFrame(np.load('bandpass_tolerance/ph2_tolerance_f1_y20_n3_diag0_full_withpbs_all-ghz_rtol1.0e-04_nrlz10.npy'))\n",
    "all_ghz"
   ]
  },
  {
   "cell_type": "code",
   "execution_count": 14,
   "id": "3ca673a5-28ee-48e9-a06c-4ae9492c8a8a",
   "metadata": {},
   "outputs": [
    {
     "data": {
      "text/html": [
       "<div>\n",
       "<style scoped>\n",
       "    .dataframe tbody tr th:only-of-type {\n",
       "        vertical-align: middle;\n",
       "    }\n",
       "\n",
       "    .dataframe tbody tr th {\n",
       "        vertical-align: top;\n",
       "    }\n",
       "\n",
       "    .dataframe thead th {\n",
       "        text-align: right;\n",
       "    }\n",
       "</style>\n",
       "<table border=\"1\" class=\"dataframe\">\n",
       "  <thead>\n",
       "    <tr style=\"text-align: right;\">\n",
       "      <th></th>\n",
       "      <th>0</th>\n",
       "    </tr>\n",
       "  </thead>\n",
       "  <tbody>\n",
       "    <tr>\n",
       "      <th>0</th>\n",
       "      <td>-1.416016</td>\n",
       "    </tr>\n",
       "    <tr>\n",
       "      <th>1</th>\n",
       "      <td>5.000000</td>\n",
       "    </tr>\n",
       "  </tbody>\n",
       "</table>\n",
       "</div>"
      ],
      "text/plain": [
       "          0\n",
       "0 -1.416016\n",
       "1  5.000000"
      ]
     },
     "execution_count": 14,
     "metadata": {},
     "output_type": "execute_result"
    }
   ],
   "source": [
    "all_ghz_f2 = pd.DataFrame(np.load('bandpass_tolerance/ph2_tolerance_f2_y20_n3_diag0_full_withpbs_all-ghz_rtol1.0e-04_nrlz10.npy'))\n",
    "all_ghz_f2"
   ]
  },
  {
   "cell_type": "code",
   "execution_count": null,
   "id": "832a1551-8595-443f-a945-cf5838cf2372",
   "metadata": {},
   "outputs": [],
   "source": []
  }
 ],
 "metadata": {
  "kernelspec": {
   "display_name": "s4bb",
   "language": "python",
   "name": "s4bb"
  },
  "language_info": {
   "codemirror_mode": {
    "name": "ipython",
    "version": 3
   },
   "file_extension": ".py",
   "mimetype": "text/x-python",
   "name": "python",
   "nbconvert_exporter": "python",
   "pygments_lexer": "ipython3",
   "version": "3.13.3"
  }
 },
 "nbformat": 4,
 "nbformat_minor": 5
}
