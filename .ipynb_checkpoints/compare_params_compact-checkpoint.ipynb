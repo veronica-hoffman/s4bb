{
 "cells": [
  {
   "cell_type": "code",
   "execution_count": 1,
   "id": "bc6e10ac-a2e7-4fe8-b0b2-e788fc60d03c",
   "metadata": {},
   "outputs": [],
   "source": [
    "import matplotlib.pyplot as plt\n",
    "import h5py\n",
    "import numpy as np\n",
    "import pandas as pd\n",
    "import phase2_common as ph2\n",
    "from s4bb.spectra import XSpec, CalcSpec_namaster"
   ]
  },
  {
   "cell_type": "code",
   "execution_count": 14,
   "id": "d2574f29-f155-4e98-8fa7-a8c02a355e4b",
   "metadata": {},
   "outputs": [
    {
     "ename": "FileNotFoundError",
     "evalue": "[Errno 2] No such file or directory: 'mlsearch/ph2_mlsearch_f1_y20_n3_full_withpbs_diag0.npy'",
     "output_type": "error",
     "traceback": [
      "\u001b[31m---------------------------------------------------------------------------\u001b[39m",
      "\u001b[31mFileNotFoundError\u001b[39m                         Traceback (most recent call last)",
      "\u001b[36mCell\u001b[39m\u001b[36m \u001b[39m\u001b[32mIn[14]\u001b[39m\u001b[32m, line 1\u001b[39m\n\u001b[32m----> \u001b[39m\u001b[32m1\u001b[39m params_norm = \u001b[43mnp\u001b[49m\u001b[43m.\u001b[49m\u001b[43mload\u001b[49m\u001b[43m(\u001b[49m\u001b[33;43m'\u001b[39;49m\u001b[33;43mmlsearch/ph2_mlsearch_f1_y20_n3_full_withpbs_diag0.npy\u001b[39;49m\u001b[33;43m'\u001b[39;49m\u001b[43m)\u001b[49m\n\u001b[32m      2\u001b[39m params_norm = params_norm.T\n\u001b[32m      3\u001b[39m df_norm = pd.DataFrame(params_norm, columns = [\u001b[33m'\u001b[39m\u001b[33mstatus\u001b[39m\u001b[33m'\u001b[39m, \u001b[33m'\u001b[39m\u001b[33mfval\u001b[39m\u001b[33m'\u001b[39m, \u001b[33m'\u001b[39m\u001b[33mr\u001b[39m\u001b[33m'\u001b[39m, \u001b[33m'\u001b[39m\u001b[33mA_d\u001b[39m\u001b[33m'\u001b[39m, \u001b[33m'\u001b[39m\u001b[33malpha_d\u001b[39m\u001b[33m'\u001b[39m, \u001b[33m'\u001b[39m\u001b[33mbeta_d\u001b[39m\u001b[33m'\u001b[39m, \u001b[33m'\u001b[39m\u001b[33mA_s\u001b[39m\u001b[33m'\u001b[39m, \u001b[33m'\u001b[39m\u001b[33malpha_s\u001b[39m\u001b[33m'\u001b[39m, \u001b[33m'\u001b[39m\u001b[33mbeta_s\u001b[39m\u001b[33m'\u001b[39m, \u001b[33m'\u001b[39m\u001b[33mepsilon\u001b[39m\u001b[33m'\u001b[39m, \u001b[33m'\u001b[39m\u001b[33mDelta_d\u001b[39m\u001b[33m'\u001b[39m, \u001b[33m'\u001b[39m\u001b[33mDelta_s\u001b[39m\u001b[33m'\u001b[39m])\n",
      "\u001b[36mFile \u001b[39m\u001b[32m~/.conda/envs/s4bb/lib/python3.13/site-packages/numpy/lib/_npyio_impl.py:454\u001b[39m, in \u001b[36mload\u001b[39m\u001b[34m(file, mmap_mode, allow_pickle, fix_imports, encoding, max_header_size)\u001b[39m\n\u001b[32m    452\u001b[39m     own_fid = \u001b[38;5;28;01mFalse\u001b[39;00m\n\u001b[32m    453\u001b[39m \u001b[38;5;28;01melse\u001b[39;00m:\n\u001b[32m--> \u001b[39m\u001b[32m454\u001b[39m     fid = stack.enter_context(\u001b[38;5;28;43mopen\u001b[39;49m\u001b[43m(\u001b[49m\u001b[43mos\u001b[49m\u001b[43m.\u001b[49m\u001b[43mfspath\u001b[49m\u001b[43m(\u001b[49m\u001b[43mfile\u001b[49m\u001b[43m)\u001b[49m\u001b[43m,\u001b[49m\u001b[43m \u001b[49m\u001b[33;43m\"\u001b[39;49m\u001b[33;43mrb\u001b[39;49m\u001b[33;43m\"\u001b[39;49m\u001b[43m)\u001b[49m)\n\u001b[32m    455\u001b[39m     own_fid = \u001b[38;5;28;01mTrue\u001b[39;00m\n\u001b[32m    457\u001b[39m \u001b[38;5;66;03m# Code to distinguish from NumPy binary files and pickles.\u001b[39;00m\n",
      "\u001b[31mFileNotFoundError\u001b[39m: [Errno 2] No such file or directory: 'mlsearch/ph2_mlsearch_f1_y20_n3_full_withpbs_diag0.npy'"
     ]
    }
   ],
   "source": [
    "params_norm = np.load('mlsearch/ph2_mlsearch_f1_y20_n3_full_withpbs_diag0.npy')\n",
    "params_norm = params_norm.T\n",
    "df_norm = pd.DataFrame(params_norm, columns = ['status', 'fval', 'r', 'A_d', 'alpha_d', 'beta_d', 'A_s', 'alpha_s', 'beta_s', 'epsilon', 'Delta_d', 'Delta_s'])\n",
    "df_norm"
   ]
  },
  {
   "cell_type": "code",
   "execution_count": 10,
   "id": "ca631d75-b4a4-4fb3-97df-4c2af9a7fee2",
   "metadata": {},
   "outputs": [
    {
     "ename": "NameError",
     "evalue": "name 'df_rbias' is not defined",
     "output_type": "error",
     "traceback": [
      "\u001b[31m---------------------------------------------------------------------------\u001b[39m",
      "\u001b[31mNameError\u001b[39m                                 Traceback (most recent call last)",
      "\u001b[36mCell\u001b[39m\u001b[36m \u001b[39m\u001b[32mIn[10]\u001b[39m\u001b[32m, line 4\u001b[39m\n\u001b[32m      2\u001b[39m params_rbias25 = params_rbias25.T\n\u001b[32m      3\u001b[39m df_rbias25 = pd.DataFrame(params_rbias25, columns = [\u001b[33m'\u001b[39m\u001b[33mstatus\u001b[39m\u001b[33m'\u001b[39m, \u001b[33m'\u001b[39m\u001b[33mfval\u001b[39m\u001b[33m'\u001b[39m, \u001b[33m'\u001b[39m\u001b[33mr\u001b[39m\u001b[33m'\u001b[39m, \u001b[33m'\u001b[39m\u001b[33mA_d\u001b[39m\u001b[33m'\u001b[39m, \u001b[33m'\u001b[39m\u001b[33malpha_d\u001b[39m\u001b[33m'\u001b[39m, \u001b[33m'\u001b[39m\u001b[33mbeta_d\u001b[39m\u001b[33m'\u001b[39m, \u001b[33m'\u001b[39m\u001b[33mA_s\u001b[39m\u001b[33m'\u001b[39m, \u001b[33m'\u001b[39m\u001b[33malpha_s\u001b[39m\u001b[33m'\u001b[39m, \u001b[33m'\u001b[39m\u001b[33mbeta_s\u001b[39m\u001b[33m'\u001b[39m, \u001b[33m'\u001b[39m\u001b[33mepsilon\u001b[39m\u001b[33m'\u001b[39m, \u001b[33m'\u001b[39m\u001b[33mDelta_d\u001b[39m\u001b[33m'\u001b[39m, \u001b[33m'\u001b[39m\u001b[33mDelta_s\u001b[39m\u001b[33m'\u001b[39m])\n\u001b[32m----> \u001b[39m\u001b[32m4\u001b[39m \u001b[43mdf_rbias\u001b[49m\n",
      "\u001b[31mNameError\u001b[39m: name 'df_rbias' is not defined"
     ]
    }
   ],
   "source": [
    "params_rbias25 = np.load('mlsearch/ph2_mlsearch_f1_y20_n3_diag0_full_withpbs_rbias2.5e-03.npy')\n",
    "params_rbias25 = params_rbias25.T\n",
    "df_rbias25 = pd.DataFrame(params_rbias25, columns = ['status', 'fval', 'r', 'A_d', 'alpha_d', 'beta_d', 'A_s', 'alpha_s', 'beta_s', 'epsilon', 'Delta_d', 'Delta_s'])\n",
    "df_rbias25"
   ]
  },
  {
   "cell_type": "code",
   "execution_count": 9,
   "id": "e2463e0c-a64d-49fd-b9a1-457951e3cb8c",
   "metadata": {},
   "outputs": [
    {
     "name": "stdout",
     "output_type": "stream",
     "text": [
      "    status  fval    r  A_d  alpha_d  beta_d  A_s  alpha_s  beta_s  epsilon  \\\n",
      "0      0.0   0.0  0.0  0.0      0.0     0.0  0.0      0.0     0.0      0.0   \n",
      "1      0.0   0.0  0.0  0.0      0.0     0.0  0.0      0.0     0.0      0.0   \n",
      "2      0.0   0.0  0.0  0.0      0.0     0.0  0.0      0.0     0.0      0.0   \n",
      "3      0.0   0.0  0.0  0.0      0.0     0.0  0.0      0.0     0.0      0.0   \n",
      "4      0.0   0.0  0.0  0.0      0.0     0.0  0.0      0.0     0.0      0.0   \n",
      "..     ...   ...  ...  ...      ...     ...  ...      ...     ...      ...   \n",
      "95     0.0   0.0  0.0  0.0      0.0     0.0  0.0      0.0     0.0      0.0   \n",
      "96     0.0   0.0  0.0  0.0      0.0     0.0  0.0      0.0     0.0      0.0   \n",
      "97     0.0   0.0  0.0  0.0      0.0     0.0  0.0      0.0     0.0      0.0   \n",
      "98     0.0   0.0  0.0  0.0      0.0     0.0  0.0      0.0     0.0      0.0   \n",
      "99     0.0   0.0  0.0  0.0      0.0     0.0  0.0      0.0     0.0      0.0   \n",
      "\n",
      "    Delta_d  Delta_s  \n",
      "0       0.0      0.0  \n",
      "1       0.0      0.0  \n",
      "2       0.0      0.0  \n",
      "3       0.0      0.0  \n",
      "4       0.0      0.0  \n",
      "..      ...      ...  \n",
      "95      0.0      0.0  \n",
      "96      0.0      0.0  \n",
      "97      0.0      0.0  \n",
      "98      0.0      0.0  \n",
      "99      0.0      0.0  \n",
      "\n",
      "[100 rows x 12 columns]\n",
      "Bias Table (params_norm - params_rbias2.5):\n",
      "============================================================\n",
      "   status  fval    r  A_d  alpha_d  beta_d  A_s  alpha_s  beta_s  epsilon  \\\n",
      "0     0.0   0.0  0.0  0.0      0.0     0.0  0.0      0.0     0.0      0.0   \n",
      "1     0.0   0.0  0.0  0.0      0.0     0.0  0.0      0.0     0.0      0.0   \n",
      "2     0.0   0.0  0.0  0.0      0.0     0.0  0.0      0.0     0.0      0.0   \n",
      "3     0.0   0.0  0.0  0.0      0.0     0.0  0.0      0.0     0.0      0.0   \n",
      "4     0.0   0.0  0.0  0.0      0.0     0.0  0.0      0.0     0.0      0.0   \n",
      "5     0.0   0.0  0.0  0.0      0.0     0.0  0.0      0.0     0.0      0.0   \n",
      "6     0.0   0.0  0.0  0.0      0.0     0.0  0.0      0.0     0.0      0.0   \n",
      "7     0.0   0.0  0.0  0.0      0.0     0.0  0.0      0.0     0.0      0.0   \n",
      "8     0.0   0.0  0.0  0.0      0.0     0.0  0.0      0.0     0.0      0.0   \n",
      "9     0.0   0.0  0.0  0.0      0.0     0.0  0.0      0.0     0.0      0.0   \n",
      "\n",
      "   Delta_d  Delta_s  \n",
      "0      0.0      0.0  \n",
      "1      0.0      0.0  \n",
      "2      0.0      0.0  \n",
      "3      0.0      0.0  \n",
      "4      0.0      0.0  \n",
      "5      0.0      0.0  \n",
      "6      0.0      0.0  \n",
      "7      0.0      0.0  \n",
      "8      0.0      0.0  \n",
      "9      0.0      0.0  \n",
      "\n",
      "\n",
      "Summary Statistics:\n",
      "============================================================\n",
      "         Mean  Std\n",
      "status    0.0  0.0\n",
      "fval      0.0  0.0\n",
      "r         0.0  0.0\n",
      "A_d       0.0  0.0\n",
      "alpha_d   0.0  0.0\n",
      "beta_d    0.0  0.0\n",
      "A_s       0.0  0.0\n",
      "alpha_s   0.0  0.0\n",
      "beta_s    0.0  0.0\n",
      "epsilon   0.0  0.0\n",
      "Delta_d   0.0  0.0\n",
      "Delta_s   0.0  0.0\n"
     ]
    }
   ],
   "source": [
    "bias_df = df_norm - df_rbias25\n",
    "print(bias_df)\n",
    "bias_df.columns = [f'{col}' for col in bias_df.columns]\n",
    "\n",
    "print(\"Bias Table (params_norm - params_rbias2.5):\")\n",
    "print(\"=\" * 60)\n",
    "print(bias_df.head(10))  # Show first 10 rows, adjust as needed\n",
    "\n",
    "print(\"\\n\\nSummary Statistics:\")\n",
    "print(\"=\" * 60)\n",
    "\n",
    "# Calculate means and standard deviations\n",
    "summary_stats = pd.DataFrame({\n",
    "    'Mean': bias_df.mean(),\n",
    "    'Std': bias_df.std()\n",
    "})\n",
    "\n",
    "print(summary_stats)"
   ]
  },
  {
   "cell_type": "code",
   "execution_count": null,
   "id": "356f835f-bcf7-4182-a97f-43a7fc9fe7c8",
   "metadata": {},
   "outputs": [],
   "source": []
  }
 ],
 "metadata": {
  "kernelspec": {
   "display_name": "s4bb",
   "language": "python",
   "name": "s4bb"
  },
  "language_info": {
   "codemirror_mode": {
    "name": "ipython",
    "version": 3
   },
   "file_extension": ".py",
   "mimetype": "text/x-python",
   "name": "python",
   "nbconvert_exporter": "python",
   "pygments_lexer": "ipython3",
   "version": "3.13.3"
  }
 },
 "nbformat": 4,
 "nbformat_minor": 5
}
